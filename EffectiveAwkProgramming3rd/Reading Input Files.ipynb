{
 "metadata": {
  "name": "",
  "signature": "sha256:f654992abe0fdaca62f929fef89ea9b64fc99540286f3742d44fa482c450dc02"
 },
 "nbformat": 3,
 "nbformat_minor": 0,
 "worksheets": [
  {
   "cells": [
    {
     "cell_type": "code",
     "collapsed": false,
     "input": [
      "!cat tmp/BBS-list"
     ],
     "language": "python",
     "metadata": {},
     "outputs": [
      {
       "output_type": "stream",
       "stream": "stdout",
       "text": [
        "aardvark 555-5553 1200/300 B\r\n",
        "alpo-net 555-3412 2400/1200/300 A\r\n",
        "barfly 555-7685 1200/300 A\r\n",
        "bites 555-1675 2400/1200/300 A\r\n",
        "camelot 555-0542 300 C\r\n",
        "core 555-2912 1200/300 C\r\n",
        "fooey 555-1234 2400/1200/300 B\r\n",
        "foot 555-6699 1200/300 B\r\n",
        "macfoo 555-6480 1200/300 A\r\n",
        "sdace 555-3430 2400/1200/300 A\r\n",
        "sabafoo 555-2127 1200/300 C"
       ]
      }
     ],
     "prompt_number": 2
    },
    {
     "cell_type": "code",
     "collapsed": false,
     "input": [
      "!awk 'BEGIN { RS = \"/\" } { print $0 }' tmp/BBS-list"
     ],
     "language": "python",
     "metadata": {},
     "outputs": [
      {
       "output_type": "stream",
       "stream": "stdout",
       "text": [
        "aardvark 555-5553 1200\r\n",
        "300 B\r\n",
        "alpo-net 555-3412 2400\r\n",
        "1200\r\n",
        "300 A\r\n",
        "barfly 555-7685 1200\r\n",
        "300 A\r\n",
        "bites 555-1675 2400\r\n",
        "1200\r\n",
        "300 A\r\n",
        "camelot 555-0542 300 C\r\n",
        "core 555-2912 1200\r\n",
        "300 C\r\n",
        "fooey 555-1234 2400\r\n",
        "1200\r\n",
        "300 B\r\n",
        "foot 555-6699 1200\r\n",
        "300 B\r\n",
        "macfoo 555-6480 1200\r\n",
        "300 A\r\n",
        "sdace 555-3430 2400\r\n",
        "1200\r\n",
        "300 A\r\n",
        "sabafoo 555-2127 1200\r\n",
        "300 C\r\n"
       ]
      }
     ],
     "prompt_number": 1
    },
    {
     "cell_type": "code",
     "collapsed": false,
     "input": [
      "!awk '{ print $0 }' RS=\"/\" tmp/BBS-list"
     ],
     "language": "python",
     "metadata": {},
     "outputs": [
      {
       "output_type": "stream",
       "stream": "stdout",
       "text": [
        "aardvark 555-5553 1200\r\n",
        "300 B\r\n",
        "alpo-net 555-3412 2400\r\n",
        "1200\r\n",
        "300 A\r\n",
        "barfly 555-7685 1200\r\n",
        "300 A\r\n",
        "bites 555-1675 2400\r\n",
        "1200\r\n",
        "300 A\r\n",
        "camelot 555-0542 300 C\r\n",
        "core 555-2912 1200\r\n",
        "300 C\r\n",
        "fooey 555-1234 2400\r\n",
        "1200\r\n",
        "300 B\r\n",
        "foot 555-6699 1200\r\n",
        "300 B\r\n",
        "macfoo 555-6480 1200\r\n",
        "300 A\r\n",
        "sdace 555-3430 2400\r\n",
        "1200\r\n",
        "300 A\r\n",
        "sabafoo 555-2127 1200\r\n",
        "300 C\r\n"
       ]
      }
     ],
     "prompt_number": 3
    },
    {
     "cell_type": "code",
     "collapsed": false,
     "input": [
      "!echo | awk 'BEGIN { RS = \"a\" } ; { print NF }'\n"
     ],
     "language": "python",
     "metadata": {},
     "outputs": [
      {
       "output_type": "stream",
       "stream": "stdout",
       "text": [
        "0\r\n"
       ]
      }
     ],
     "prompt_number": 4
    },
    {
     "cell_type": "code",
     "collapsed": false,
     "input": [],
     "language": "python",
     "metadata": {},
     "outputs": []
    }
   ],
   "metadata": {}
  }
 ]
}