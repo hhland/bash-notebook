{
 "metadata": {
  "name": "",
  "signature": "sha256:92e88eba1c57de7a2d21d67f632fbd272ab585dfce588a7b50c9884bd6c0e9b0"
 },
 "nbformat": 3,
 "nbformat_minor": 0,
 "worksheets": [
  {
   "cells": [
    {
     "cell_type": "code",
     "collapsed": false,
     "input": [
      "%pylab inline"
     ],
     "language": "python",
     "metadata": {},
     "outputs": [
      {
       "output_type": "stream",
       "stream": "stdout",
       "text": [
        "Populating the interactive namespace from numpy and matplotlib\n"
       ]
      }
     ],
     "prompt_number": 1
    },
    {
     "cell_type": "code",
     "collapsed": false,
     "input": [
      "!awk \"BEGIN { print \\\"Don't Panic! \\\" }\"\n",
      "!ls -l | awk '{print $$1}' \n",
      "!awk \"BEGIN { print \\\"Here is a single quote <\u2019\\\u2019\u2019>\\\" }\""
     ],
     "language": "python",
     "metadata": {},
     "outputs": [
      {
       "output_type": "stream",
       "stream": "stdout",
       "text": [
        "Don't Panic! \r\n"
       ]
      },
      {
       "output_type": "stream",
       "stream": "stdout",
       "text": [
        "total 8\r\n",
        "-rw-r--r-- 1 root root 1745 Dec 10 10:43 Getting Started with awk.ipynb\r\n",
        "-rw-r--r-- 1 root root  181 Dec  9 09:42 Regular Expressions .ipynb\r\n"
       ]
      },
      {
       "output_type": "stream",
       "stream": "stdout",
       "text": [
        "awk: warning: escape sequence `\\\ufffd' treated as plain `\ufffd'\r\n",
        "Here is a single quote <\u2019\\\ufffd\ufffd\u2019>\r\n"
       ]
      }
     ],
     "prompt_number": 8
    },
    {
     "cell_type": "code",
     "collapsed": false,
     "input": [
      "%%file tmp/BBS-list\n",
      "aardvark 555-5553 1200/300 B\n",
      "alpo-net 555-3412 2400/1200/300 A\n",
      "barfly 555-7685 1200/300 A\n",
      "bites 555-1675 2400/1200/300 A\n",
      "camelot 555-0542 300 C\n",
      "core 555-2912 1200/300 C\n",
      "fooey 555-1234 2400/1200/300 B\n",
      "foot 555-6699 1200/300 B\n",
      "macfoo 555-6480 1200/300 A\n",
      "sdace 555-3430 2400/1200/300 A\n",
      "sabafoo 555-2127 1200/300 C"
     ],
     "language": "python",
     "metadata": {},
     "outputs": [
      {
       "output_type": "stream",
       "stream": "stdout",
       "text": [
        "Writing tmp/BBS-list\n"
       ]
      }
     ],
     "prompt_number": 11
    },
    {
     "cell_type": "code",
     "collapsed": false,
     "input": [
      "!awk \"/foo/ { print $1 }\" tmp/BBS-list\n",
      "!awk \"{ if (length($1) > max) max = length($1) } END { print max }\" tmp/BBS-list"
     ],
     "language": "python",
     "metadata": {},
     "outputs": [
      {
       "output_type": "stream",
       "stream": "stdout",
       "text": [
        "fooey 555-1234 2400/1200/300 B\r\n",
        "foot 555-6699 1200/300 B\r\n",
        "macfoo 555-6480 1200/300 A\r\n",
        "sabafoo 555-2127 1200/300 C\r\n"
       ]
      },
      {
       "output_type": "stream",
       "stream": "stdout",
       "text": [
        "33\r\n"
       ]
      }
     ],
     "prompt_number": 21
    },
    {
     "cell_type": "code",
     "collapsed": false,
     "input": [
      "!awk \"BEGIN { for (i = 1; i <= 7; i++) print int(101 * rand()) }\"\n",
      "!ls -l | awk \"{ x += $$5 } ; END { print \\\"total bytes: \\\" x }\"\n",
      "!ls -l  | awk \"{ x += $$5 } END { print \\\"total K-bytes: \\\" (x + 1023)/1024 }\""
     ],
     "language": "python",
     "metadata": {},
     "outputs": [
      {
       "output_type": "stream",
       "stream": "stdout",
       "text": [
        "24\r\n",
        "29\r\n",
        "85\r\n",
        "15\r\n",
        "59\r\n",
        "19\r\n",
        "81\r\n"
       ]
      },
      {
       "output_type": "stream",
       "stream": "stdout",
       "text": [
        "total bytes: 892780\r\n"
       ]
      },
      {
       "output_type": "stream",
       "stream": "stdout",
       "text": [
        "total K-bytes: 872.972\r\n"
       ]
      }
     ],
     "prompt_number": 24
    },
    {
     "cell_type": "code",
     "collapsed": false,
     "input": [
      "!awk -F: \"{ print $1 }\" /etc/passwd | sort"
     ],
     "language": "python",
     "metadata": {},
     "outputs": [
      {
       "output_type": "stream",
       "stream": "stdout",
       "text": [
        "activemq:x:108:115::/var/lib/activemq:/bin/bash\r\n",
        "backup:x:34:34:backup:/var/backups:/bin/sh\r\n",
        "bin:x:2:2:bin:/bin:/bin/sh\r\n",
        "daemon:x:1:1:daemon:/usr/sbin:/bin/sh\r\n",
        "ftp:x:107:114:ftp daemon,,,:/srv/ftp:/bin/false\r\n",
        "games:x:5:60:games:/usr/games:/bin/sh\r\n",
        "gnats:x:41:41:Gnats Bug-Reporting System (admin):/var/lib/gnats:/bin/sh\r\n",
        "hadoop:x:1002:1000:hadoop,3,3,3,3:/home/hadoop:/bin/bash\r\n",
        "irc:x:39:39:ircd:/var/run/ircd:/bin/sh\r\n",
        "libuuid:x:100:101::/var/lib/libuuid:/bin/sh\r\n",
        "list:x:38:38:Mailing List Manager:/var/list:/bin/sh\r\n",
        "lp:x:7:7:lp:/var/spool/lpd:/bin/sh\r\n",
        "mail:x:8:8:mail:/var/mail:/bin/sh\r\n",
        "man:x:6:12:man:/var/cache/man:/bin/sh\r\n",
        "messagebus:x:102:105::/var/run/dbus:/bin/false\r\n",
        "mmc:x:1000:114:hhlin,167,15558191972,:/home/mmc:/bin/bash\r\n",
        "mongodb:x:105:65534::/home/mongodb:/bin/false\r\n",
        "mysql:x:109:116:MySQL Server,,,:/nonexistent:/bin/false\r\n",
        "news:x:9:9:news:/var/spool/news:/bin/sh\r\n",
        "nobody:x:65534:65534:nobody:/nonexistent:/bin/sh\r\n",
        "ntp:x:104:108::/home/ntp:/bin/false\r\n",
        "proxy:x:13:13:proxy:/bin:/bin/sh\r\n",
        "redis:x:106:113:redis server,,,:/var/lib/redis:/bin/false\r\n",
        "root:x:0:0:root:/root:/bin/bash\r\n",
        "rstudio-server:x:999:999::/home/rstudio-server:/bin/sh\r\n",
        "shiny:x:998:998::/home/shiny:/bin/sh\r\n",
        "sshd:x:103:65534::/var/run/sshd:/usr/sbin/nologin\r\n",
        "sync:x:4:65534:sync:/bin:/bin/sync\r\n",
        "syslog:x:101:103::/home/syslog:/bin/false\r\n",
        "sys:x:3:3:sys:/dev:/bin/sh\r\n",
        "uucp:x:10:10:uucp:/var/spool/uucp:/bin/sh\r\n",
        "vsftp:x:1001:114:hhlin,,,:/home/vsftp:/bin/bash\r\n",
        "www-data:x:33:33:www-data:/var/www:/bin/sh\r\n"
       ]
      }
     ],
     "prompt_number": 26
    },
    {
     "cell_type": "code",
     "collapsed": false,
     "input": [
      "!awk \"END { print NR }\" tmp/BBS-list\n",
      "!awk \"NR % 2 == 0\" tmp/BBS-list"
     ],
     "language": "python",
     "metadata": {},
     "outputs": [
      {
       "output_type": "stream",
       "stream": "stdout",
       "text": [
        "11\r\n"
       ]
      },
      {
       "output_type": "stream",
       "stream": "stdout",
       "text": [
        "alpo-net 555-3412 2400/1200/300 A\r\n",
        "bites 555-1675 2400/1200/300 A\r\n",
        "core 555-2912 1200/300 C\r\n",
        "foot 555-6699 1200/300 B\r\n",
        "sdace 555-3430 2400/1200/300 A\r\n"
       ]
      }
     ],
     "prompt_number": 29
    },
    {
     "cell_type": "code",
     "collapsed": false,
     "input": [
      "%%file tmp/inventory-shipped\n",
      "Jan 13 25 15 115\n",
      "Feb 15 32 24 226\n",
      "Mar 15 24 34 228\n",
      "Apr 31 52 63 420\n",
      "May 16 34 29 208\n",
      "Jun 31 42 75 492\n",
      "Jul 24 34 67 436\n",
      "Aug 15 34 47 316\n",
      "Sep 13 55 37 277\n",
      "Oct 29 54 68 525\n",
      "Nov 20 87 82 577\n",
      "Dec 17 35 61 401\n",
      "Jan 21 36 64 620\n",
      "Feb 26 58 80 652\n",
      "Mar 24 75 70 495\n",
      "Apr 21 70 74 514"
     ],
     "language": "python",
     "metadata": {},
     "outputs": [
      {
       "output_type": "stream",
       "stream": "stdout",
       "text": [
        "Writing tmp/inventory-shipped\n"
       ]
      }
     ],
     "prompt_number": 30
    },
    {
     "cell_type": "code",
     "collapsed": false,
     "input": [
      "!awk \"/12/ { print $1 } /21/ { print $1 }\" tmp/BBS-list tmp/inventory-shipped"
     ],
     "language": "python",
     "metadata": {},
     "outputs": [
      {
       "output_type": "stream",
       "stream": "stdout",
       "text": [
        "aardvark 555-5553 1200/300 B\r\n",
        "alpo-net 555-3412 2400/1200/300 A\r\n",
        "barfly 555-7685 1200/300 A\r\n",
        "bites 555-1675 2400/1200/300 A\r\n",
        "core 555-2912 1200/300 C\r\n",
        "fooey 555-1234 2400/1200/300 B\r\n",
        "foot 555-6699 1200/300 B\r\n",
        "macfoo 555-6480 1200/300 A\r\n",
        "sdace 555-3430 2400/1200/300 A\r\n",
        "sabafoo 555-2127 1200/300 C\r\n",
        "sabafoo 555-2127 1200/300 C\r\n",
        "Jan 21 36 64 620\r\n",
        "Apr 21 70 74 514\r\n"
       ]
      }
     ],
     "prompt_number": 37
    },
    {
     "cell_type": "code",
     "collapsed": false,
     "input": [
      "!ls -l | awk \"$$6 == \\\"Dec\\\" { sum += $$5 } END { print sum }\""
     ],
     "language": "python",
     "metadata": {},
     "outputs": [
      {
       "output_type": "stream",
       "stream": "stdout",
       "text": [
        "\r\n"
       ]
      }
     ],
     "prompt_number": 36
    },
    {
     "cell_type": "code",
     "collapsed": false,
     "input": [
      "!ls -l"
     ],
     "language": "python",
     "metadata": {},
     "outputs": [
      {
       "output_type": "stream",
       "stream": "stdout",
       "text": [
        "total 20\r\n",
        "-rw-r--r-- 1 root root 8982 Dec 10 11:19 Getting Started with awk.ipynb\r\n",
        "-rw-r--r-- 1 root root  181 Dec  9 09:42 Regular Expressions .ipynb\r\n",
        "drwxr-xr-x 2 root root 4096 Dec 10 11:17 tmp\r\n"
       ]
      }
     ],
     "prompt_number": 35
    },
    {
     "cell_type": "code",
     "collapsed": false,
     "input": [],
     "language": "python",
     "metadata": {},
     "outputs": []
    }
   ],
   "metadata": {}
  }
 ]
}