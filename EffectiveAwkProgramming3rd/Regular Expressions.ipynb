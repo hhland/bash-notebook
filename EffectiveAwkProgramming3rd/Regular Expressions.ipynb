{
 "metadata": {
  "name": "",
  "signature": "sha256:78296fe131368cad01b4086608604d047f0a694b138e1ffc28dfea84a9f5b902"
 },
 "nbformat": 3,
 "nbformat_minor": 0,
 "worksheets": [
  {
   "cells": [
    {
     "cell_type": "code",
     "collapsed": false,
     "input": [
      "!awk '/foo/ {print $2 }'  tmp/BBS-list"
     ],
     "language": "python",
     "metadata": {},
     "outputs": [
      {
       "output_type": "stream",
       "stream": "stdout",
       "text": [
        "555-1234\r\n",
        "555-6699\r\n",
        "555-6480\r\n",
        "555-2127\r\n"
       ]
      }
     ],
     "prompt_number": 2
    },
    {
     "cell_type": "code",
     "collapsed": false,
     "input": [
      "!awk '{if ($1 ~ /J/ ) print}' tmp/inventory-shipped\n",
      "!echo --------------------\n",
      "!awk '{if ($1 !~ /J/ ) print}' tmp/inventory-shipped"
     ],
     "language": "python",
     "metadata": {},
     "outputs": [
      {
       "output_type": "stream",
       "stream": "stdout",
       "text": [
        "Jan 13 25 15 115\r\n",
        "Jun 31 42 75 492\r\n",
        "Jul 24 34 67 436\r\n",
        "Jan 21 36 64 620\r\n"
       ]
      },
      {
       "output_type": "stream",
       "stream": "stdout",
       "text": [
        "--------------------\r\n"
       ]
      },
      {
       "output_type": "stream",
       "stream": "stdout",
       "text": [
        "Feb 15 32 24 226\r\n",
        "Mar 15 24 34 228\r\n",
        "Apr 31 52 63 420\r\n",
        "May 16 34 29 208\r\n",
        "Aug 15 34 47 316\r\n",
        "Sep 13 55 37 277\r\n",
        "Oct 29 54 68 525\r\n",
        "Nov 20 87 82 577\r\n",
        "Dec 17 35 61 401\r\n",
        "Feb 26 58 80 652\r\n",
        "Mar 24 75 70 495\r\n",
        "Apr 21 70 74 514\r\n"
       ]
      }
     ],
     "prompt_number": 14
    },
    {
     "cell_type": "code",
     "collapsed": false,
     "input": [
      "!cat tmp/inventory-shipped"
     ],
     "language": "python",
     "metadata": {},
     "outputs": [
      {
       "output_type": "stream",
       "stream": "stdout",
       "text": [
        "Jan 13 25 15 115\r\n",
        "Feb 15 32 24 226\r\n",
        "Mar 15 24 34 228\r\n",
        "Apr 31 52 63 420\r\n",
        "May 16 34 29 208\r\n",
        "Jun 31 42 75 492\r\n",
        "Jul 24 34 67 436\r\n",
        "Aug 15 34 47 316\r\n",
        "Sep 13 55 37 277\r\n",
        "Oct 29 54 68 525\r\n",
        "Nov 20 87 82 577\r\n",
        "Dec 17 35 61 401\r\n",
        "Jan 21 36 64 620\r\n",
        "Feb 26 58 80 652\r\n",
        "Mar 24 75 70 495\r\n",
        "Apr 21 70 74 514"
       ]
      }
     ],
     "prompt_number": 11
    },
    {
     "cell_type": "code",
     "collapsed": false,
     "input": [],
     "language": "python",
     "metadata": {},
     "outputs": []
    }
   ],
   "metadata": {}
  }
 ]
}