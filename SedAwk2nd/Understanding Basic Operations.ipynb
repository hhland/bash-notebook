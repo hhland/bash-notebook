{
 "metadata": {
  "name": "",
  "signature": "sha256:32533138cf3c50b0d10a29483b0af7e7cff1223ed8da205aa0e74507e2206924"
 },
 "nbformat": 3,
 "nbformat_minor": 0,
 "worksheets": [
  {
   "cells": [
    {
     "cell_type": "code",
     "collapsed": false,
     "input": [
      "%%file tmp/list\n",
      "John Daggett, 341 King Road, Plymouth MA\n",
      "Alice Ford, 22 East Broadway, Richmond VA\n",
      "Orville Thomas, 11345 Oak Bridge Road, Tulsa OK\n",
      "Terry Kalkas, 402 Lans Road, Beaver Falls PA\n",
      "Eric Adams, 20 Post Road, Sudbury MA\n",
      "Hubert Sims, 328A Brook Road, Roanoke VA\n",
      "Amy Wilde, 334 Bayshore Pkwy, Mountain View CA\n",
      "Sal Carpenter, 73 6th Street, Boston MA"
     ],
     "language": "python",
     "metadata": {},
     "outputs": [
      {
       "output_type": "stream",
       "stream": "stdout",
       "text": [
        "Writing tmp/list\n"
       ]
      }
     ],
     "prompt_number": 3
    },
    {
     "cell_type": "code",
     "collapsed": false,
     "input": [
      "!sed 's/MA/Massachusetts/' tmp/list"
     ],
     "language": "python",
     "metadata": {},
     "outputs": [
      {
       "output_type": "stream",
       "stream": "stdout",
       "text": [
        "John Daggett, 341 King Road, Plymouth Massachusetts\r\n",
        "Alice Ford, 22 East Broadway, Richmond VA\r\n",
        "Orville Thomas, 11345 Oak Bridge Road, Tulsa OK\r\n",
        "Terry Kalkas, 402 Lans Road, Beaver Falls PA\r\n",
        "Eric Adams, 20 Post Road, Sudbury Massachusetts\r\n",
        "Hubert Sims, 328A Brook Road, Roanoke VA\r\n",
        "Amy Wilde, 334 Bayshore Pkwy, Mountain View CA\r\n",
        "Sal Carpenter, 73 6th Street, Boston Massachusetts"
       ]
      }
     ],
     "prompt_number": 10
    },
    {
     "cell_type": "code",
     "collapsed": false,
     "input": [
      "!sed 's/ MA/, Massachusetts/' tmp/list"
     ],
     "language": "python",
     "metadata": {},
     "outputs": [
      {
       "output_type": "stream",
       "stream": "stdout",
       "text": [
        "John Daggett, 341 King Road, Plymouth, Massachusetts\r\n",
        "Alice Ford, 22 East Broadway, Richmond VA\r\n",
        "Orville Thomas, 11345 Oak Bridge Road, Tulsa OK\r\n",
        "Terry Kalkas, 402 Lans Road, Beaver Falls PA\r\n",
        "Eric Adams, 20 Post Road, Sudbury, Massachusetts\r\n",
        "Hubert Sims, 328A Brook Road, Roanoke VA\r\n",
        "Amy Wilde, 334 Bayshore Pkwy, Mountain View CA\r\n",
        "Sal Carpenter, 73 6th Street, Boston, Massachusetts"
       ]
      }
     ],
     "prompt_number": 9
    },
    {
     "cell_type": "code",
     "collapsed": false,
     "input": [
      "\"\"\"Separate instructions with a semicolon.\"\"\"\n",
      "!sed 's/ MA/, Massachusetts/; s/ PA/, Pennsylvania/'  tmp/list"
     ],
     "language": "python",
     "metadata": {},
     "outputs": [
      {
       "output_type": "stream",
       "stream": "stdout",
       "text": [
        "John Daggett, 341 King Road, Plymouth, Massachusetts\r\n",
        "Alice Ford, 22 East Broadway, Richmond VA\r\n",
        "Orville Thomas, 11345 Oak Bridge Road, Tulsa OK\r\n",
        "Terry Kalkas, 402 Lans Road, Beaver Falls, Pennsylvania\r\n",
        "Eric Adams, 20 Post Road, Sudbury, Massachusetts\r\n",
        "Hubert Sims, 328A Brook Road, Roanoke VA\r\n",
        "Amy Wilde, 334 Bayshore Pkwy, Mountain View CA\r\n",
        "Sal Carpenter, 73 6th Street, Boston, Massachusetts"
       ]
      }
     ],
     "prompt_number": 12
    },
    {
     "cell_type": "code",
     "collapsed": false,
     "input": [
      "#Precede each instruction by -e.\n",
      "!sed -e 's/ MA/, Massachusetts/' -e 's/ PA/,Pennsylvania/' tmp/list"
     ],
     "language": "python",
     "metadata": {},
     "outputs": [
      {
       "output_type": "stream",
       "stream": "stdout",
       "text": [
        "John Daggett, 341 King Road, Plymouth, Massachusetts\r\n",
        "Alice Ford, 22 East Broadway, Richmond VA\r\n",
        "Orville Thomas, 11345 Oak Bridge Road, Tulsa OK\r\n",
        "Terry Kalkas, 402 Lans Road, Beaver Falls,Pennsylvania\r\n",
        "Eric Adams, 20 Post Road, Sudbury, Massachusetts\r\n",
        "Hubert Sims, 328A Brook Road, Roanoke VA\r\n",
        "Amy Wilde, 334 Bayshore Pkwy, Mountain View CA\r\n",
        "Sal Carpenter, 73 6th Street, Boston, Massachusetts"
       ]
      }
     ],
     "prompt_number": 14
    },
    {
     "cell_type": "code",
     "collapsed": false,
     "input": [
      "!sed -e 's/MA/Massachusetts/' tmp/list"
     ],
     "language": "python",
     "metadata": {},
     "outputs": [
      {
       "output_type": "stream",
       "stream": "stdout",
       "text": [
        "John Daggett, 341 King Road, Plymouth Massachusetts\r\n",
        "Alice Ford, 22 East Broadway, Richmond VA\r\n",
        "Orville Thomas, 11345 Oak Bridge Road, Tulsa OK\r\n",
        "Terry Kalkas, 402 Lans Road, Beaver Falls PA\r\n",
        "Eric Adams, 20 Post Road, Sudbury Massachusetts\r\n",
        "Hubert Sims, 328A Brook Road, Roanoke VA\r\n",
        "Amy Wilde, 334 Bayshore Pkwy, Mountain View CA\r\n",
        "Sal Carpenter, 73 6th Street, Boston Massachusetts"
       ]
      }
     ],
     "prompt_number": 17
    },
    {
     "cell_type": "code",
     "collapsed": false,
     "input": [
      "%%file tmp/sedscr\n",
      "s/ MA/, Massachusetts/\n",
      "s/ PA/, Pennsylvania/\n",
      "s/ CA/, California/\n",
      "s/ VA/, Virginia/\n",
      "s/ OK/, Oklahoma/"
     ],
     "language": "python",
     "metadata": {},
     "outputs": [
      {
       "output_type": "stream",
       "stream": "stdout",
       "text": [
        "Writing tmp/sedscr\n"
       ]
      }
     ],
     "prompt_number": 19
    },
    {
     "cell_type": "code",
     "collapsed": false,
     "input": [
      "!sed -f tmp/sedscr tmp/list"
     ],
     "language": "python",
     "metadata": {},
     "outputs": [
      {
       "output_type": "stream",
       "stream": "stdout",
       "text": [
        "John Daggett, 341 King Road, Plymouth, Massachusetts\r\n",
        "Alice Ford, 22 East Broadway, Richmond, Virginia\r\n",
        "Orville Thomas, 11345 Oak Bridge Road, Tulsa, Oklahoma\r\n",
        "Terry Kalkas, 402 Lans Road, Beaver Falls, Pennsylvania\r\n",
        "Eric Adams, 20 Post Road, Sudbury, Massachusetts\r\n",
        "Hubert Sims, 328A Brook Road, Roanoke, Virginia\r\n",
        "Amy Wilde, 334 Bayshore Pkwy, Mountain View, California\r\n",
        "Sal Carpenter, 73 6th Street, Boston, Massachusetts"
       ]
      }
     ],
     "prompt_number": 26
    },
    {
     "cell_type": "markdown",
     "metadata": {},
     "source": [
      "The default operation of sed is to output every input line. The -n option suppresses the automatic output.\n",
      "When specifying this option, each instruction intended to produce output must contain a print command,\n",
      "p. Look at the following example."
     ]
    },
    {
     "cell_type": "code",
     "collapsed": false,
     "input": [
      "!sed -n  -e 's/MA/Massachusetts/p' tmp/list"
     ],
     "language": "python",
     "metadata": {},
     "outputs": [
      {
       "output_type": "stream",
       "stream": "stdout",
       "text": [
        "John Daggett, 341 King Road, Plymouth Massachusetts\r\n",
        "Eric Adams, 20 Post Road, Sudbury Massachusetts\r\n",
        "Sal Carpenter, 73 6th Street, Boston Massachusetts"
       ]
      }
     ],
     "prompt_number": 29
    },
    {
     "cell_type": "markdown",
     "metadata": {},
     "source": [
      "#Using awk\n",
      "* -f Filename of script follows.\n",
      "* -F Change field separator.\n",
      "* -v var=value follows."
     ]
    },
    {
     "cell_type": "code",
     "collapsed": false,
     "input": [
      "!awk '{ print $1 }' tmp/list"
     ],
     "language": "python",
     "metadata": {},
     "outputs": [
      {
       "output_type": "stream",
       "stream": "stdout",
       "text": [
        "John\r\n",
        "Alice\r\n",
        "Orville\r\n",
        "Terry\r\n",
        "Eric\r\n",
        "Hubert\r\n",
        "Amy\r\n",
        "Sal\r\n"
       ]
      }
     ],
     "prompt_number": 30
    },
    {
     "cell_type": "code",
     "collapsed": false,
     "input": [
      "!awk '/MA/ { print $1 }' tmp/list"
     ],
     "language": "python",
     "metadata": {},
     "outputs": [
      {
       "output_type": "stream",
       "stream": "stdout",
       "text": [
        "John\r\n",
        "Eric\r\n",
        "Sal\r\n"
       ]
      }
     ],
     "prompt_number": 33
    },
    {
     "cell_type": "markdown",
     "metadata": {},
     "source": [
      "use the -F option to change the field separator to a comma. This allows us to\n",
      "retrieve any of three fields: the full name, the street address, or the city and state."
     ]
    },
    {
     "cell_type": "code",
     "collapsed": false,
     "input": [
      "!awk -F , '/MA/ { print $1; print $2; print $3 }' tmp/list"
     ],
     "language": "python",
     "metadata": {},
     "outputs": [
      {
       "output_type": "stream",
       "stream": "stdout",
       "text": [
        "John Daggett\r\n",
        " 341 King Road\r\n",
        " Plymouth MA\r\n",
        "Eric Adams\r\n",
        " 20 Post Road\r\n",
        " Sudbury MA\r\n",
        "Sal Carpenter\r\n",
        " 73 6th Street\r\n",
        " Boston MA\r\n"
       ]
      }
     ],
     "prompt_number": 39
    },
    {
     "cell_type": "markdown",
     "metadata": {},
     "source": [
      "#Using sed and awk Together"
     ]
    },
    {
     "cell_type": "code",
     "collapsed": false,
     "input": [
      "%%file tmp/nameState\n",
      "s/ CA/, California/\n",
      "s/ MA/, Massachusetts/\n",
      "s/ OK/, Oklahoma/\n",
      "s/ PA/, Pennsylvania/\n",
      "s/ VA/, Virginia/"
     ],
     "language": "python",
     "metadata": {},
     "outputs": [
      {
       "output_type": "stream",
       "stream": "stdout",
       "text": [
        "Writing tmp/nameState\n"
       ]
      }
     ],
     "prompt_number": 40
    },
    {
     "cell_type": "code",
     "collapsed": false,
     "input": [
      "!sed -f tmp/nameState tmp/list | awk -F, '{ print $4 }'"
     ],
     "language": "python",
     "metadata": {},
     "outputs": [
      {
       "output_type": "stream",
       "stream": "stdout",
       "text": [
        " Massachusetts\r\n",
        " Virginia\r\n",
        " Oklahoma\r\n",
        " Pennsylvania\r\n",
        " Massachusetts\r\n",
        " Virginia\r\n",
        " California\r\n",
        " Massachusetts\r\n"
       ]
      }
     ],
     "prompt_number": 42
    },
    {
     "cell_type": "code",
     "collapsed": false,
     "input": [
      "%%file tmp/byState\n",
      "awk -F, '{\n",
      " print $4 \", \" $0\n",
      " }' $* |\n",
      "sort |\n",
      "awk -F, '\n",
      "$1 == LastState {\n",
      " print \"\\t\" $2\n",
      "}\n",
      "$1 != LastState {\n",
      " LastState = $1\n",
      " print $1\n",
      "}'"
     ],
     "language": "python",
     "metadata": {},
     "outputs": [
      {
       "output_type": "stream",
       "stream": "stdout",
       "text": [
        "Writing tmp/byState\n"
       ]
      }
     ],
     "prompt_number": 44
    },
    {
     "cell_type": "code",
     "collapsed": false,
     "input": [
      "!sed -f tmp/nameState tmp/list | tmp/byState"
     ],
     "language": "python",
     "metadata": {},
     "outputs": [
      {
       "output_type": "stream",
       "stream": "stdout",
       "text": [
        " California\r\n",
        " Massachusetts\r\n",
        "\t John Daggett\r\n",
        "\t Sal Carpenter\r\n",
        " Oklahoma\r\n",
        " Pennsylvania\r\n",
        " Virginia\r\n",
        "\t Hubert Sims\r\n"
       ]
      }
     ],
     "prompt_number": 47
    },
    {
     "cell_type": "code",
     "collapsed": false,
     "input": [
      "!sed -f tmp/nameState tmp/list | awk -F, '{ print $4 \", \" $0 }'"
     ],
     "language": "python",
     "metadata": {},
     "outputs": [
      {
       "output_type": "stream",
       "stream": "stdout",
       "text": [
        " Massachusetts, John Daggett, 341 King Road, Plymouth, Massachusetts\r\n",
        " Virginia, Alice Ford, 22 East Broadway, Richmond, Virginia\r\n",
        " Oklahoma, Orville Thomas, 11345 Oak Bridge Road, Tulsa, Oklahoma\r\n",
        " Pennsylvania, Terry Kalkas, 402 Lans Road, Beaver Falls, Pennsylvania\r\n",
        " Massachusetts, Eric Adams, 20 Post Road, Sudbury, Massachusetts\r\n",
        " Virginia, Hubert Sims, 328A Brook Road, Roanoke, Virginia\r\n",
        " California, Amy Wilde, 334 Bayshore Pkwy, Mountain View, California\r\n",
        " Massachusetts, Sal Carpenter, 73 6th Street, Boston, Massachusetts\r\n"
       ]
      }
     ],
     "prompt_number": 48
    },
    {
     "cell_type": "code",
     "collapsed": false,
     "input": [],
     "language": "python",
     "metadata": {},
     "outputs": []
    }
   ],
   "metadata": {}
  }
 ]
}