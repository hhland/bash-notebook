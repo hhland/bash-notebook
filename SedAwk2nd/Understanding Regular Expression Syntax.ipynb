{
 "metadata": {
  "name": "",
  "signature": "sha256:5917caddcf79b0497037f2ea430da55764922643aad70b96b05888bb1921b1a9"
 },
 "nbformat": 3,
 "nbformat_minor": 0,
 "worksheets": [
  {
   "cells": [
    {
     "cell_type": "code",
     "collapsed": false,
     "input": [
      "!grep '\\.H[123]' ch0[12]"
     ],
     "language": "python",
     "metadata": {},
     "outputs": [
      {
       "output_type": "stream",
       "stream": "stdout",
       "text": [
        "grep: ch0[12]: No such file or directory\r\n"
       ]
      }
     ],
     "prompt_number": 1
    },
    {
     "cell_type": "code",
     "collapsed": false,
     "input": [],
     "language": "python",
     "metadata": {},
     "outputs": []
    }
   ],
   "metadata": {}
  }
 ]
}