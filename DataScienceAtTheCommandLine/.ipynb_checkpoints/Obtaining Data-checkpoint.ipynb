{
 "metadata": {
  "name": "",
  "signature": "sha256:f9386367d0cf586704513243387284472ee2d71da6e92d42b630a1f5b481a649"
 },
 "nbformat": 3,
 "nbformat_minor": 0,
 "worksheets": [
  {
   "cells": [
    {
     "cell_type": "code",
     "collapsed": false,
     "input": [
      "%%file unpack.sh\n",
      "  if [[ -z \"$@\" ]]; then\n",
      "    echo \" ${0##*/} <archive> - extract common file formats)\"\n",
      "    exit\n",
      "  fi\n",
      "# Required program(s)\n",
      "  req_progs=(7z unrar unzip)\n",
      "  for p in ${req_progs[@]}; do\n",
      "    hash \"$p\" 2>&- || \\\n",
      "    { echo >&2 \" Required program \\\"$p\\\" not installed.\"; exit 1; }\n",
      "  done\n",
      "# Test if file exists\n",
      "  if [ ! -f \"$@\" ]; then\n",
      "    echo \"File \"$@\" doesn't exist\"\n",
      "    exit\n",
      "  fi\n",
      "# Extract file by using extension as reference\n",
      "  case \"$@\" in\n",
      "    *.7z ) 7z x \"$@\" ;;\n",
      "    *.tar.bz2 ) tar xvjf \"$@\" ;;\n",
      "    *.bz2 ) bunzip2 \"$@\" ;;\n",
      "    *.deb ) ar vx \"$@\" ;;\n",
      "    *.tar.gz ) tar xvf \"$@\" ;;\n",
      "    *.gz ) gunzip \"$@\" ;;\n",
      "    *.tar ) tar xvf \"$@\" ;;\n",
      "    *.tbz2 ) tar xvjf \"$@\" ;;\n",
      "    *.tar.xz ) tar xvf \"$@\" ;;\n",
      "    *.tgz ) tar xvzf \"$@\" ;;\n",
      "    *.rar ) unrar x \"$@\" ;;\n",
      "    *.zip ) unzip \"$@\" ;;\n",
      "    *.Z ) uncompress \"$@\" ;;\n",
      "    * ) echo \" Unsupported file format\" ;;\n",
      "  esac"
     ],
     "language": "python",
     "metadata": {},
     "outputs": [
      {
       "output_type": "stream",
       "stream": "stdout",
       "text": [
        "Writing unpack.sh\n"
       ]
      }
     ],
     "prompt_number": 3
    },
    {
     "cell_type": "code",
     "collapsed": false,
     "input": [
      "#!pip install csvkit\n",
      "!in2csv data/imdb-250.xlsx > data/imdb-250.csv\n",
      "!in2csv data/imdb-250.xlsx | head | cut -c1-80\n",
      "!in2csv data/imdb-250.xlsx | head | csvcut -c Title,Year,Rating | csvlook"
     ],
     "language": "python",
     "metadata": {},
     "outputs": [
      {
       "output_type": "stream",
       "stream": "stdout",
       "text": [
        "/usr/local/lib/python2.7/dist-packages/openpyxl/workbook/names/named_range.py:121: UserWarning: Discarded range with reserved name\r\n",
        "  warnings.warn(\"Discarded range with reserved name\")\r\n"
       ]
      },
      {
       "output_type": "stream",
       "stream": "stdout",
       "text": [
        "/usr/local/lib/python2.7/dist-packages/openpyxl/workbook/names/named_range.py:121: UserWarning: Discarded range with reserved name\r\n",
        "  warnings.warn(\"Discarded range with reserved name\")\r\n"
       ]
      },
      {
       "output_type": "stream",
       "stream": "stdout",
       "text": [
        "Title,title trim,Year,Rank,Rank (desc),Rating,New in 2011 from 2010?,2010 rank,R\r\n",
        "Sherlock Jr. (1924),SherlockJr.(1924),1924,221,30,8,y,n/a,n/a,\r\n",
        "The Passion of Joan of Arc (1928),ThePassionofJoanofArc(1928),1928,212,39,8,y,n/\r\n",
        "His Girl Friday (1940),HisGirlFriday(1940),1940,250,1,8,y,n/a,n/a,\r\n",
        "Tokyo Story (1953),TokyoStory(1953),1953,248,3,8,y,n/a,n/a,\r\n",
        "The Man Who Shot Liberty Valance (1962),TheManWhoShotLibertyValance(1962),1962,2\r\n",
        "Persona (1966),Persona(1966),1966,200,51,8,y,n/a,n/a,\r\n",
        "Stalker (1979),Stalker(1979),1979,243,8,8,y,n/a,n/a,\r\n",
        "Fanny and Alexander (1982),FannyandAlexander(1982),1982,210,41,8,y,n/a,n/a,\r\n",
        "Beauty and the Beast (1991),BeautyandtheBeast(1991),1991,249,2,8,y,n/a,n/a,\r\n"
       ]
      },
      {
       "output_type": "stream",
       "stream": "stdout",
       "text": [
        "/usr/local/lib/python2.7/dist-packages/openpyxl/workbook/names/named_range.py:121: UserWarning: Discarded range with reserved name\r\n",
        "  warnings.warn(\"Discarded range with reserved name\")\r\n"
       ]
      },
      {
       "output_type": "stream",
       "stream": "stdout",
       "text": [
        "|------------------------------------------+------+---------|\r\n",
        "|  Title                                   | Year | Rating  |\r\n",
        "|------------------------------------------+------+---------|\r\n",
        "|  Sherlock Jr. (1924)                     | 1924 | 8       |\r\n",
        "|  The Passion of Joan of Arc (1928)       | 1928 | 8       |\r\n",
        "|  His Girl Friday (1940)                  | 1940 | 8       |\r\n",
        "|  Tokyo Story (1953)                      | 1953 | 8       |\r\n",
        "|  The Man Who Shot Liberty Valance (1962) | 1962 | 8       |\r\n",
        "|  Persona (1966)                          | 1966 | 8       |\r\n",
        "|  Stalker (1979)                          | 1979 | 8       |\r\n",
        "|  Fanny and Alexander (1982)              | 1982 | 8       |\r\n",
        "|  Beauty and the Beast (1991)             | 1991 | 8       |\r\n",
        "|------------------------------------------+------+---------|\r\n"
       ]
      }
     ],
     "prompt_number": 8
    },
    {
     "cell_type": "code",
     "collapsed": false,
     "input": [],
     "language": "python",
     "metadata": {},
     "outputs": [],
     "prompt_number": 4
    },
    {
     "cell_type": "code",
     "collapsed": false,
     "input": [],
     "language": "python",
     "metadata": {},
     "outputs": []
    }
   ],
   "metadata": {}
  }
 ]
}