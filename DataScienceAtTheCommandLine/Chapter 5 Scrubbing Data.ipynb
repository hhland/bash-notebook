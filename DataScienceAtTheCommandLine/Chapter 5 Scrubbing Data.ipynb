{
 "cells": [
  {
   "cell_type": "code",
   "execution_count": 6,
   "metadata": {
    "collapsed": false
   },
   "outputs": [
    {
     "name": "stdout",
     "output_type": "stream",
     "text": [
      "      2 foo\n",
      "      1 bar\n"
     ]
    }
   ],
   "source": [
    "%%bash\n",
    " echo -e 'foo\\nbar\\nfoo' | sort | uniq -c | sort -nr"
   ]
  },
  {
   "cell_type": "code",
   "execution_count": 17,
   "metadata": {
    "collapsed": false
   },
   "outputs": [
    {
     "name": "stdout",
     "output_type": "stream",
     "text": [
      "value,count\n",
      "foo,2\n",
      "bar,1\n"
     ]
    }
   ],
   "source": [
    "%%bash\n",
    " echo -e 'foo\\nbar\\nfoo' | sort | uniq -c | sort -nr | \\\n",
    " awk '{print $2\",\"$1}' | tool/header -a value,count"
   ]
  },
  {
   "cell_type": "code",
   "execution_count": 32,
   "metadata": {
    "collapsed": false
   },
   "outputs": [
    {
     "name": "stdout",
     "output_type": "stream",
     "text": [
      "echo 'Line 1'\n",
      "echo 'Line 2'\n",
      "echo 'Line 3'\n",
      "echo 'Line 4'\n",
      "echo 'Line 5'\n",
      "echo 'Line 6'\n",
      "echo 'Line 7'\n",
      "echo 'Line 8'\n",
      "echo 'Line 9'\n",
      "echo 'Line 10'\n"
     ]
    }
   ],
   "source": [
    "%%bash\n",
    "seq -f \"echo 'Line %g'\" 10 | tee lines"
   ]
  },
  {
   "cell_type": "code",
   "execution_count": 36,
   "metadata": {
    "collapsed": false
   },
   "outputs": [
    {
     "name": "stdout",
     "output_type": "stream",
     "text": [
      "Line 1\n",
      "Line 2\n",
      "Line 3\n",
      "Line 4\n",
      "Line 5\n",
      "Line 6\n",
      "Line 7\n",
      "Line 8\n",
      "Line 9\n",
      "Line 10\n"
     ]
    }
   ],
   "source": [
    "%%bash\n",
    "./lines tool/head -n 3\n"
   ]
  },
  {
   "cell_type": "code",
   "execution_count": 35,
   "metadata": {
    "collapsed": false
   },
   "outputs": [
    {
     "name": "stdout",
     "output_type": "stream",
     "text": [
      "Line 1\r\n",
      "Line 2\r\n",
      "Line 3\r\n",
      "Line 4\r\n",
      "Line 5\r\n",
      "Line 6\r\n",
      "Line 7\r\n",
      "Line 8\r\n",
      "Line 9\r\n",
      "Line 10\r\n"
     ]
    }
   ],
   "source": [
    "!./lines"
   ]
  },
  {
   "cell_type": "code",
   "execution_count": null,
   "metadata": {
    "collapsed": true
   },
   "outputs": [],
   "source": []
  }
 ],
 "metadata": {
  "kernelspec": {
   "display_name": "Python 2",
   "language": "python",
   "name": "python2"
  },
  "language_info": {
   "codemirror_mode": {
    "name": "ipython",
    "version": 2
   },
   "file_extension": ".py",
   "mimetype": "text/x-python",
   "name": "python",
   "nbconvert_exporter": "python",
   "pygments_lexer": "ipython2",
   "version": "2.7.3"
  }
 },
 "nbformat": 4,
 "nbformat_minor": 0
}
