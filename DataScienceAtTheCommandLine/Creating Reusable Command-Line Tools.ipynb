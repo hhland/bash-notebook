{
 "metadata": {
  "name": "",
  "signature": "sha256:088f1e29068c58481d8da69121f11ee1977e2a61e47252460eeaa79877da23e1"
 },
 "nbformat": 3,
 "nbformat_minor": 0,
 "worksheets": [
  {
   "cells": [
    {
     "cell_type": "code",
     "collapsed": false,
     "input": [
      "\"\"\"Converting One-Liners into Shell Scripts\"\"\"\n",
      "!curl -s http://www.gutenberg.org/cache/epub/76/pg76.txt | tr '[:upper:]' '[:lower:]' | grep -oE '\\w+' | sort | uniq -c | sort -nr | head -n 10 "
     ],
     "language": "python",
     "metadata": {},
     "outputs": [
      {
       "output_type": "stream",
       "stream": "stdout",
       "text": [
        "   6441 and\r\n",
        "   5082 the\r\n",
        "   3666 i\r\n",
        "   3258 a\r\n",
        "   3022 to\r\n",
        "   2567 it\r\n",
        "   2086 t\r\n",
        "   2044 was\r\n",
        "   1847 he\r\n",
        "   1778 of\r\n",
        "sort: write failed: standard output: Broken pipe\r\n",
        "sort: write error\r\n"
       ]
      }
     ],
     "prompt_number": 2
    },
    {
     "cell_type": "code",
     "collapsed": false,
     "input": [],
     "language": "python",
     "metadata": {},
     "outputs": []
    }
   ],
   "metadata": {}
  }
 ]
}