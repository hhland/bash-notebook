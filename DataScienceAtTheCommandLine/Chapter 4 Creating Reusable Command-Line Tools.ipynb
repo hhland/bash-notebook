{
 "cells": [
  {
   "cell_type": "code",
   "execution_count": 1,
   "metadata": {
    "collapsed": false
   },
   "outputs": [
    {
     "name": "stdout",
     "output_type": "stream",
     "text": [
      "Populating the interactive namespace from numpy and matplotlib\n"
     ]
    }
   ],
   "source": [
    "%pylab inline"
   ]
  },
  {
   "cell_type": "code",
   "execution_count": 10,
   "metadata": {
    "collapsed": false
   },
   "outputs": [
    {
     "name": "stdout",
     "output_type": "stream",
     "text": [
      "     12 you\n",
      "     10 to\n",
      "     10 li\n",
      "      8 a\n",
      "      7 the\n",
      "      7 if\n",
      "      6 p\n",
      "      5 this\n",
      "      5 that\n",
      "      4 we\n"
     ]
    }
   ],
   "source": [
    "%%bash\n",
    "curl -s http://www.gutenberg.org/cache/epub/76/pg76.txt |\n",
    "tr '[:upper:]' '[:lower:]' | grep -oE '\\w+' | sort |\n",
    "uniq -c | sort -nr | head -n 10"
   ]
  },
  {
   "cell_type": "code",
   "execution_count": 6,
   "metadata": {
    "collapsed": false
   },
   "outputs": [
    {
     "name": "stdout",
     "output_type": "stream",
     "text": [
      "     12 you\n",
      "     10 to\n",
      "     10 li\n",
      "      8 a\n",
      "      7 the\n",
      "      7 if\n",
      "      6 p\n",
      "      5 this\n",
      "      5 that\n",
      "      4 we\n"
     ]
    }
   ],
   "source": [
    "%%bash\n",
    "curl -s http://www.gutenberg.org/cache/epub/76/pg76.txt |\n",
    "tr '[:upper:]' '[:lower:]' | grep -oE '\\w+' | sort |\n",
    "uniq -c | sort -nr | head -n 10"
   ]
  },
  {
   "cell_type": "code",
   "execution_count": 11,
   "metadata": {
    "collapsed": false
   },
   "outputs": [
    {
     "name": "stdout",
     "output_type": "stream",
     "text": [
      "/bin\n",
      "/d/git/erlzmq2\n",
      "/d/program/apache/apache-ant-1.9.4/bin\n",
      "/d/program/apache/apache-hive-0.13.3-inm-bin/bin\n",
      "/d/program/apache/apache-maven-3.2.2/bin\n",
      "/d/program/apache/apache-storm-0.9.3/bin\n",
      "/d/program/apache/apache-storm-0.9.3/bin\n",
      "/d/program/apache/cassandra-2.0.9/bin\n",
      "/d/program/apache/giraph-1.1.0/bin\n",
      "/d/program/apache/hadoop-2.6.0/bin\n",
      "/d/program/apache/hbase/bin\n",
      "/d/program/apache/mahout-1.0/bin\n",
      "/d/program/apache/pig-0.14.0/bin\n",
      "/d/program/apache/spark-1.2.0-bin-hadoop2.4/bin\n",
      "/d/program/apache/sqoop/bin\n",
      "/d/program/go/bin\n",
      "/d/program/groovy-2.3.7/bin\n",
      "/d/program/java/jdk1.8.0_20/bin\n",
      "/d/program/jython-2.7b3/bin\n",
      "/d/program/lenskit-2.1/bin\n",
      "/d/program/mongodb-linux-x86_64-2.6.3/bin\n",
      "/d/program/odps/bin\n",
      "/d/program/odps-dship\n",
      "/d/program/pypy-2.5.1-linux64/bin\n",
      "/d/program/sbt/bin\n",
      "/d/program/scala-2.11.2/bin\n",
      "/d/program/spring/roo/bin\n",
      "/d/program/spring/xd/shell/bin\n",
      "$JAVA_HOME/bin\n",
      "/sbin\n",
      "/usr/bin\n",
      "/usr/games\n",
      "/usr/local/bin\n",
      "/usr/local/sbin\n",
      "/usr/sbin\n"
     ]
    }
   ],
   "source": [
    "%%bash\n",
    "echo $PATH | tr : '\\n' | sort"
   ]
  },
  {
   "cell_type": "code",
   "execution_count": null,
   "metadata": {
    "collapsed": true
   },
   "outputs": [],
   "source": []
  }
 ],
 "metadata": {
  "kernelspec": {
   "display_name": "Python 2",
   "language": "python",
   "name": "python2"
  },
  "language_info": {
   "codemirror_mode": {
    "name": "ipython",
    "version": 2
   },
   "file_extension": ".py",
   "mimetype": "text/x-python",
   "name": "python",
   "nbconvert_exporter": "python",
   "pygments_lexer": "ipython2",
   "version": "2.7.3"
  }
 },
 "nbformat": 4,
 "nbformat_minor": 0
}
