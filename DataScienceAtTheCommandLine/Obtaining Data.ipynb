{
 "cells": [
  {
   "cell_type": "code",
   "execution_count": 3,
   "metadata": {
    "collapsed": false
   },
   "outputs": [
    {
     "name": "stdout",
     "output_type": "stream",
     "text": [
      "Writing unpack.sh\n"
     ]
    }
   ],
   "source": [
    "%%file unpack.sh\n",
    "  if [[ -z \"$@\" ]]; then\n",
    "    echo \" ${0##*/} <archive> - extract common file formats)\"\n",
    "    exit\n",
    "  fi\n",
    "# Required program(s)\n",
    "  req_progs=(7z unrar unzip)\n",
    "  for p in ${req_progs[@]}; do\n",
    "    hash \"$p\" 2>&- || \\\n",
    "    { echo >&2 \" Required program \\\"$p\\\" not installed.\"; exit 1; }\n",
    "  done\n",
    "# Test if file exists\n",
    "  if [ ! -f \"$@\" ]; then\n",
    "    echo \"File \"$@\" doesn't exist\"\n",
    "    exit\n",
    "  fi\n",
    "# Extract file by using extension as reference\n",
    "  case \"$@\" in\n",
    "    *.7z ) 7z x \"$@\" ;;\n",
    "    *.tar.bz2 ) tar xvjf \"$@\" ;;\n",
    "    *.bz2 ) bunzip2 \"$@\" ;;\n",
    "    *.deb ) ar vx \"$@\" ;;\n",
    "    *.tar.gz ) tar xvf \"$@\" ;;\n",
    "    *.gz ) gunzip \"$@\" ;;\n",
    "    *.tar ) tar xvf \"$@\" ;;\n",
    "    *.tbz2 ) tar xvjf \"$@\" ;;\n",
    "    *.tar.xz ) tar xvf \"$@\" ;;\n",
    "    *.tgz ) tar xvzf \"$@\" ;;\n",
    "    *.rar ) unrar x \"$@\" ;;\n",
    "    *.zip ) unzip \"$@\" ;;\n",
    "    *.Z ) uncompress \"$@\" ;;\n",
    "    * ) echo \" Unsupported file format\" ;;\n",
    "  esac"
   ]
  },
  {
   "cell_type": "code",
   "execution_count": 8,
   "metadata": {
    "collapsed": false
   },
   "outputs": [
    {
     "name": "stdout",
     "output_type": "stream",
     "text": [
      "/usr/local/lib/python2.7/dist-packages/openpyxl/workbook/names/named_range.py:121: UserWarning: Discarded range with reserved name\n",
      "  warnings.warn(\"Discarded range with reserved name\")\n",
      "/usr/local/lib/python2.7/dist-packages/openpyxl/workbook/names/named_range.py:121: UserWarning: Discarded range with reserved name\n",
      "  warnings.warn(\"Discarded range with reserved name\")\n",
      "Title,title trim,Year,Rank,Rank (desc),Rating,New in 2011 from 2010?,2010 rank,R\n",
      "Sherlock Jr. (1924),SherlockJr.(1924),1924,221,30,8,y,n/a,n/a,\n",
      "The Passion of Joan of Arc (1928),ThePassionofJoanofArc(1928),1928,212,39,8,y,n/\n",
      "His Girl Friday (1940),HisGirlFriday(1940),1940,250,1,8,y,n/a,n/a,\n",
      "Tokyo Story (1953),TokyoStory(1953),1953,248,3,8,y,n/a,n/a,\n",
      "The Man Who Shot Liberty Valance (1962),TheManWhoShotLibertyValance(1962),1962,2\n",
      "Persona (1966),Persona(1966),1966,200,51,8,y,n/a,n/a,\n",
      "Stalker (1979),Stalker(1979),1979,243,8,8,y,n/a,n/a,\n",
      "Fanny and Alexander (1982),FannyandAlexander(1982),1982,210,41,8,y,n/a,n/a,\n",
      "Beauty and the Beast (1991),BeautyandtheBeast(1991),1991,249,2,8,y,n/a,n/a,\n",
      "/usr/local/lib/python2.7/dist-packages/openpyxl/workbook/names/named_range.py:121: UserWarning: Discarded range with reserved name\n",
      "  warnings.warn(\"Discarded range with reserved name\")\n",
      "|------------------------------------------+------+---------|\n",
      "|  Title                                   | Year | Rating  |\n",
      "|------------------------------------------+------+---------|\n",
      "|  Sherlock Jr. (1924)                     | 1924 | 8       |\n",
      "|  The Passion of Joan of Arc (1928)       | 1928 | 8       |\n",
      "|  His Girl Friday (1940)                  | 1940 | 8       |\n",
      "|  Tokyo Story (1953)                      | 1953 | 8       |\n",
      "|  The Man Who Shot Liberty Valance (1962) | 1962 | 8       |\n",
      "|  Persona (1966)                          | 1966 | 8       |\n",
      "|  Stalker (1979)                          | 1979 | 8       |\n",
      "|  Fanny and Alexander (1982)              | 1982 | 8       |\n",
      "|  Beauty and the Beast (1991)             | 1991 | 8       |\n",
      "|------------------------------------------+------+---------|\n"
     ]
    }
   ],
   "source": [
    "\"\"\"Converting Microsoft Excel Spreadsheets\"\"\"\n",
    "#!pip install csvkit\n",
    "!in2csv data/imdb-250.xlsx > data/imdb-250.csv\n",
    "!in2csv data/imdb-250.xlsx | head | cut -c1-80\n",
    "!in2csv data/imdb-250.xlsx | head | csvcut -c Title,Year,Rating | csvlook"
   ]
  },
  {
   "cell_type": "code",
   "execution_count": 3,
   "metadata": {
    "collapsed": false
   },
   "outputs": [
    {
     "name": "stdout",
     "output_type": "stream",
     "text": [
      "\u001b[37m{\r\n",
      "  \u001b[0m\u001b[34;1m\"results\"\u001b[0m\u001b[37m: \u001b[0m\u001b[37m[\r\n",
      "    \u001b[37m{\r\n",
      "      \u001b[0m\u001b[34;1m\"user\"\u001b[0m\u001b[37m: \u001b[0m\u001b[37m{\r\n",
      "        \u001b[0m\u001b[34;1m\"gender\"\u001b[0m\u001b[37m: \u001b[0m\u001b[32m\"female\"\u001b[0m\u001b[37m,\r\n",
      "        \u001b[0m\u001b[34;1m\"name\"\u001b[0m\u001b[37m: \u001b[0m\u001b[37m{\r\n",
      "          \u001b[0m\u001b[34;1m\"title\"\u001b[0m\u001b[37m: \u001b[0m\u001b[32m\"miss\"\u001b[0m\u001b[37m,\r\n",
      "          \u001b[0m\u001b[34;1m\"first\"\u001b[0m\u001b[37m: \u001b[0m\u001b[32m\"lesley-ann\"\u001b[0m\u001b[37m,\r\n",
      "          \u001b[0m\u001b[34;1m\"last\"\u001b[0m\u001b[37m: \u001b[0m\u001b[32m\"zielman\"\u001b[0m\u001b[37m\r\n",
      "        \u001b[37m}\u001b[0m\u001b[37m,\r\n",
      "        \u001b[0m\u001b[34;1m\"location\"\u001b[0m\u001b[37m: \u001b[0m\u001b[37m{\r\n",
      "          \u001b[0m\u001b[34;1m\"street\"\u001b[0m\u001b[37m: \u001b[0m\u001b[32m\"1067 burgemeester reigerstraat\"\u001b[0m\u001b[37m,\r\n",
      "          \u001b[0m\u001b[34;1m\"city\"\u001b[0m\u001b[37m: \u001b[0m\u001b[32m\"achtkarspelen\"\u001b[0m\u001b[37m,\r\n",
      "          \u001b[0m\u001b[34;1m\"state\"\u001b[0m\u001b[37m: \u001b[0m\u001b[32m\"noord-brabant\"\u001b[0m\u001b[37m,\r\n",
      "          \u001b[0m\u001b[34;1m\"zip\"\u001b[0m\u001b[37m: \u001b[0m\u001b[0m74812\u001b[0m\u001b[37m\r\n",
      "        \u001b[37m}\u001b[0m\u001b[37m,\r\n",
      "        \u001b[0m\u001b[34;1m\"email\"\u001b[0m\u001b[37m: \u001b[0m\u001b[32m\"lesley-ann.zielman@example.com\"\u001b[0m\u001b[37m,\r\n",
      "        \u001b[0m\u001b[34;1m\"username\"\u001b[0m\u001b[37m: \u001b[0m\u001b[32m\"yellowdog440\"\u001b[0m\u001b[37m,\r\n",
      "        \u001b[0m\u001b[34;1m\"password\"\u001b[0m\u001b[37m: \u001b[0m\u001b[32m\"licking\"\u001b[0m\u001b[37m,\r\n",
      "        \u001b[0m\u001b[34;1m\"salt\"\u001b[0m\u001b[37m: \u001b[0m\u001b[32m\"1XF7eYIB\"\u001b[0m\u001b[37m,\r\n",
      "        \u001b[0m\u001b[34;1m\"md5\"\u001b[0m\u001b[37m: \u001b[0m\u001b[32m\"5e31584ce3d761f3dd7d27894a8f3b42\"\u001b[0m\u001b[37m,\r\n",
      "        \u001b[0m\u001b[34;1m\"sha1\"\u001b[0m\u001b[37m: \u001b[0m\u001b[32m\"c4be5c302133d2ade25c1dc34fd422aa71f7250d\"\u001b[0m\u001b[37m,\r\n",
      "        \u001b[0m\u001b[34;1m\"sha256\"\u001b[0m\u001b[37m: \u001b[0m\u001b[32m\"af4abeb13c7e2a06ef7a7a3c0578a5dee90c9f7220920534bf66d49354a2f964\"\u001b[0m\u001b[37m,\r\n",
      "        \u001b[0m\u001b[34;1m\"registered\"\u001b[0m\u001b[37m: \u001b[0m\u001b[0m1017910802\u001b[0m\u001b[37m,\r\n",
      "        \u001b[0m\u001b[34;1m\"dob\"\u001b[0m\u001b[37m: \u001b[0m\u001b[0m506080562\u001b[0m\u001b[37m,\r\n",
      "        \u001b[0m\u001b[34;1m\"phone\"\u001b[0m\u001b[37m: \u001b[0m\u001b[32m\"(892)-867-0121\"\u001b[0m\u001b[37m,\r\n",
      "        \u001b[0m\u001b[34;1m\"cell\"\u001b[0m\u001b[37m: \u001b[0m\u001b[32m\"(923)-957-4838\"\u001b[0m\u001b[37m,\r\n",
      "        \u001b[0m\u001b[34;1m\"BSN\"\u001b[0m\u001b[37m: \u001b[0m\u001b[32m\"62278700\"\u001b[0m\u001b[37m,\r\n",
      "        \u001b[0m\u001b[34;1m\"picture\"\u001b[0m\u001b[37m: \u001b[0m\u001b[37m{\r\n",
      "          \u001b[0m\u001b[34;1m\"large\"\u001b[0m\u001b[37m: \u001b[0m\u001b[32m\"https://randomuser.me/api/portraits/women/85.jpg\"\u001b[0m\u001b[37m,\r\n",
      "          \u001b[0m\u001b[34;1m\"medium\"\u001b[0m\u001b[37m: \u001b[0m\u001b[32m\"https://randomuser.me/api/portraits/med/women/85.jpg\"\u001b[0m\u001b[37m,\r\n",
      "          \u001b[0m\u001b[34;1m\"thumbnail\"\u001b[0m\u001b[37m: \u001b[0m\u001b[32m\"https://randomuser.me/api/portraits/thumb/women/85.jpg\"\u001b[0m\u001b[37m\r\n",
      "        \u001b[37m}\u001b[0m\u001b[37m\r\n",
      "      \u001b[37m}\u001b[0m\u001b[37m\r\n",
      "    \u001b[37m}\u001b[0m\u001b[37m\r\n",
      "  \u001b[37m]\u001b[0m\u001b[37m,\r\n",
      "  \u001b[0m\u001b[34;1m\"nationality\"\u001b[0m\u001b[37m: \u001b[0m\u001b[32m\"NL\"\u001b[0m\u001b[37m,\r\n",
      "  \u001b[0m\u001b[34;1m\"seed\"\u001b[0m\u001b[37m: \u001b[0m\u001b[32m\"f546218ef288d1c006\"\u001b[0m\u001b[37m,\r\n",
      "  \u001b[0m\u001b[34;1m\"version\"\u001b[0m\u001b[37m: \u001b[0m\u001b[32m\"0.7\"\u001b[0m\u001b[37m\r\n",
      "\u001b[37m}\u001b[0m\r\n"
     ]
    }
   ],
   "source": [
    "!curl -s http://api.randomuser.me | jq '.'"
   ]
  },
  {
   "cell_type": "code",
   "execution_count": 13,
   "metadata": {
    "collapsed": false
   },
   "outputs": [
    {
     "name": "stdout",
     "output_type": "stream",
     "text": [
      "--2014-12-07 22:20:57--  http://stedolan.github.io/jq/download/linux64/jq\n",
      "Resolving stedolan.github.io (stedolan.github.io)... 103.245.222.133\n",
      "Connecting to stedolan.github.io (stedolan.github.io)|103.245.222.133|:80... connected.\n",
      "HTTP request sent, awaiting response... 200 OK\n",
      "Length: 497799 (486K) [application/octet-stream]\n",
      "Saving to: `jq.1'\n",
      "\n",
      "100%[======================================>] 497,799     3.47K/s   in 67s     \n",
      "\n",
      "2014-12-07 22:22:05 (7.21 KB/s) - `jq.1' saved [497799/497799]\n",
      "\n",
      "\u001b[37m{\n",
      "  \u001b[0m\u001b[34;1m\"results\"\u001b[0m\u001b[37m: \u001b[0m\u001b[37m[\n",
      "    \u001b[37m{\n",
      "      \u001b[0m\u001b[34;1m\"user\"\u001b[0m\u001b[37m: \u001b[0m\u001b[37m{\n",
      "        \u001b[0m\u001b[34;1m\"gender\"\u001b[0m\u001b[37m: \u001b[0m\u001b[32m\"female\"\u001b[0m\u001b[37m,\n",
      "        \u001b[0m\u001b[34;1m\"name\"\u001b[0m\u001b[37m: \u001b[0m\u001b[37m{\n",
      "          \u001b[0m\u001b[34;1m\"title\"\u001b[0m\u001b[37m: \u001b[0m\u001b[32m\"ms\"\u001b[0m\u001b[37m,\n",
      "          \u001b[0m\u001b[34;1m\"first\"\u001b[0m\u001b[37m: \u001b[0m\u001b[32m\"heidi\"\u001b[0m\u001b[37m,\n",
      "          \u001b[0m\u001b[34;1m\"last\"\u001b[0m\u001b[37m: \u001b[0m\u001b[32m\"gomez\"\u001b[0m\u001b[37m\n",
      "        \u001b[37m}\u001b[0m\u001b[37m,\n",
      "        \u001b[0m\u001b[34;1m\"location\"\u001b[0m\u001b[37m: \u001b[0m\u001b[37m{\n",
      "          \u001b[0m\u001b[34;1m\"street\"\u001b[0m\u001b[37m: \u001b[0m\u001b[32m\"9049 camden ave\"\u001b[0m\u001b[37m,\n",
      "          \u001b[0m\u001b[34;1m\"city\"\u001b[0m\u001b[37m: \u001b[0m\u001b[32m\"san jose\"\u001b[0m\u001b[37m,\n",
      "          \u001b[0m\u001b[34;1m\"state\"\u001b[0m\u001b[37m: \u001b[0m\u001b[32m\"texas\"\u001b[0m\u001b[37m,\n",
      "          \u001b[0m\u001b[34;1m\"zip\"\u001b[0m\u001b[37m: \u001b[0m\u001b[32m\"76928\"\u001b[0m\u001b[37m\n",
      "        \u001b[37m}\u001b[0m\u001b[37m,\n",
      "        \u001b[0m\u001b[34;1m\"email\"\u001b[0m\u001b[37m: \u001b[0m\u001b[32m\"heidi.gomez48@example.com\"\u001b[0m\u001b[37m,\n",
      "        \u001b[0m\u001b[34;1m\"username\"\u001b[0m\u001b[37m: \u001b[0m\u001b[32m\"redwolf78\"\u001b[0m\u001b[37m,\n",
      "        \u001b[0m\u001b[34;1m\"password\"\u001b[0m\u001b[37m: \u001b[0m\u001b[32m\"yellow\"\u001b[0m\u001b[37m,\n",
      "        \u001b[0m\u001b[34;1m\"salt\"\u001b[0m\u001b[37m: \u001b[0m\u001b[32m\"OFIkJdb8\"\u001b[0m\u001b[37m,\n",
      "        \u001b[0m\u001b[34;1m\"md5\"\u001b[0m\u001b[37m: \u001b[0m\u001b[32m\"2229a950cbd744bb63ea894de4b42d11\"\u001b[0m\u001b[37m,\n",
      "        \u001b[0m\u001b[34;1m\"sha1\"\u001b[0m\u001b[37m: \u001b[0m\u001b[32m\"cd38c41b9af616da985baf937447231b452a7f3f\"\u001b[0m\u001b[37m,\n",
      "        \u001b[0m\u001b[34;1m\"sha256\"\u001b[0m\u001b[37m: \u001b[0m\u001b[32m\"3592e9cff4b0112bead32faa566a99e77ef47ef9b3d7cc4843f26ae0c632ba47\"\u001b[0m\u001b[37m,\n",
      "        \u001b[0m\u001b[34;1m\"registered\"\u001b[0m\u001b[37m: \u001b[0m\u001b[32m\"1160695465\"\u001b[0m\u001b[37m,\n",
      "        \u001b[0m\u001b[34;1m\"dob\"\u001b[0m\u001b[37m: \u001b[0m\u001b[32m\"468627396\"\u001b[0m\u001b[37m,\n",
      "        \u001b[0m\u001b[34;1m\"phone\"\u001b[0m\u001b[37m: \u001b[0m\u001b[32m\"(279)-570-2805\"\u001b[0m\u001b[37m,\n",
      "        \u001b[0m\u001b[34;1m\"cell\"\u001b[0m\u001b[37m: \u001b[0m\u001b[32m\"(495)-489-4112\"\u001b[0m\u001b[37m,\n",
      "        \u001b[0m\u001b[34;1m\"SSN\"\u001b[0m\u001b[37m: \u001b[0m\u001b[32m\"874-56-3796\"\u001b[0m\u001b[37m,\n",
      "        \u001b[0m\u001b[34;1m\"picture\"\u001b[0m\u001b[37m: \u001b[0m\u001b[37m{\n",
      "          \u001b[0m\u001b[34;1m\"large\"\u001b[0m\u001b[37m: \u001b[0m\u001b[32m\"http://api.randomuser.me/portraits/women/2.jpg\"\u001b[0m\u001b[37m,\n",
      "          \u001b[0m\u001b[34;1m\"medium\"\u001b[0m\u001b[37m: \u001b[0m\u001b[32m\"http://api.randomuser.me/portraits/med/women/2.jpg\"\u001b[0m\u001b[37m,\n",
      "          \u001b[0m\u001b[34;1m\"thumbnail\"\u001b[0m\u001b[37m: \u001b[0m\u001b[32m\"http://api.randomuser.me/portraits/thumb/women/2.jpg\"\u001b[0m\u001b[37m\n",
      "        \u001b[37m}\u001b[0m\u001b[37m,\n",
      "        \u001b[0m\u001b[34;1m\"version\"\u001b[0m\u001b[37m: \u001b[0m\u001b[32m\"0.4.1\"\u001b[0m\u001b[37m\n",
      "      \u001b[37m}\u001b[0m\u001b[37m,\n",
      "      \u001b[0m\u001b[34;1m\"seed\"\u001b[0m\u001b[37m: \u001b[0m\u001b[32m\"ad3ef9f1a580f464\"\u001b[0m\u001b[37m\n",
      "    \u001b[37m}\u001b[0m\u001b[37m\n",
      "  \u001b[37m]\u001b[0m\u001b[37m\n",
      "\u001b[37m}\u001b[0m\n"
     ]
    }
   ],
   "source": [
    "#stedolan.github.io/jq/\n",
    "#!wget http://stedolan.github.io/jq/download/linux64/jq && chmod +x jq  && cp jq /usr/bin/\n",
    "!curl -s http://api.randomuser.me | jq '.'"
   ]
  },
  {
   "cell_type": "code",
   "execution_count": 2,
   "metadata": {
    "collapsed": false
   },
   "outputs": [],
   "source": [
    "!mv unpack.sh tool"
   ]
  },
  {
   "cell_type": "code",
   "execution_count": null,
   "metadata": {
    "collapsed": true
   },
   "outputs": [],
   "source": []
  }
 ],
 "metadata": {
  "kernelspec": {
   "display_name": "Python 2",
   "language": "python",
   "name": "python2"
  },
  "language_info": {
   "codemirror_mode": {
    "name": "ipython",
    "version": 2
   },
   "file_extension": ".py",
   "mimetype": "text/x-python",
   "name": "python",
   "nbconvert_exporter": "python",
   "pygments_lexer": "ipython2",
   "version": "2.7.3"
  }
 },
 "nbformat": 4,
 "nbformat_minor": 0
}
